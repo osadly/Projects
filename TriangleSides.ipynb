{
  "nbformat": 4,
  "nbformat_minor": 0,
  "metadata": {
    "colab": {
      "provenance": [],
      "toc_visible": true
    },
    "kernelspec": {
      "name": "python3",
      "display_name": "Python 3"
    },
    "language_info": {
      "name": "python"
    }
  },
  "cells": [
    {
      "cell_type": "code",
      "execution_count": 2,
      "metadata": {
        "id": "vxDWY4GhOaj9"
      },
      "outputs": [],
      "source": [
        "import numpy as np"
      ]
    },
    {
      "cell_type": "code",
      "source": [
        "np.random.rand(10)"
      ],
      "metadata": {
        "colab": {
          "base_uri": "https://localhost:8080/"
        },
        "id": "qaZ4eJncOdws",
        "outputId": "a0017097-87de-4917-a479-fc6f9e8df3d4"
      },
      "execution_count": 3,
      "outputs": [
        {
          "output_type": "execute_result",
          "data": {
            "text/plain": [
              "array([0.63604546, 0.00297183, 0.39403305, 0.6841864 , 0.64969097,\n",
              "       0.81318976, 0.98187175, 0.423124  , 0.21238456, 0.1317096 ])"
            ]
          },
          "metadata": {},
          "execution_count": 3
        }
      ]
    },
    {
      "cell_type": "code",
      "source": [
        "np.random.random()"
      ],
      "metadata": {
        "colab": {
          "base_uri": "https://localhost:8080/"
        },
        "id": "oY1w3MVXPAql",
        "outputId": "62912b99-3b4c-4896-a719-8fbe4baa7dd2"
      },
      "execution_count": 4,
      "outputs": [
        {
          "output_type": "execute_result",
          "data": {
            "text/plain": [
              "0.6998983922784945"
            ]
          },
          "metadata": {},
          "execution_count": 4
        }
      ]
    },
    {
      "cell_type": "markdown",
      "source": [
        "## ***First Side* and *Second Side* of the triangle**"
      ],
      "metadata": {
        "id": "U1qcY71yQ3vO"
      }
    },
    {
      "cell_type": "code",
      "source": [
        "#Generate random numbers for first and second side\n",
        "frstSide = []\n",
        "scndSide = []\n",
        "\n",
        "rng = np.random.default_rng()\n",
        "\n",
        "#for i in range(10000):\n",
        "#frstSide.append(rng.uniform(-1,0,1000))\n",
        "frstSide = rng.uniform(10,5000,10000)\n",
        "#scndSide.append(rng.uniform(-1,0,1000))\n",
        "scndSide = rng.uniform(10,5000,10000)\n",
        "\n",
        "frstSide = np.array(frstSide)\n",
        "scndSide = np.array(scndSide)\n"
      ],
      "metadata": {
        "id": "TlODPhm0PBL0"
      },
      "execution_count": 9,
      "outputs": []
    },
    {
      "cell_type": "markdown",
      "source": [
        "## ***Third Side* of the triangle : This will be done on three steps as following**"
      ],
      "metadata": {
        "id": "vYG90Y93RUod"
      }
    },
    {
      "cell_type": "markdown",
      "source": [
        "### **1- First Step is to add the length of the first side *frstSide* and the lenght of the second side *scndSide* and store the generated sum into a third numpy array *frstPlsScnd* (this array of generated sums will be used to generate the third number which will be tested if it can be the third side of the triangle based on the lenght of the first two sides)**"
      ],
      "metadata": {
        "id": "S2OPQcP4SBB9"
      }
    },
    {
      "cell_type": "code",
      "source": [
        "frstPlsScnd = frstSide + scndSide\n",
        "\n",
        "print(min(frstPlsScnd), max(frstPlsScnd))\n",
        "print(min(scndSide), max(scndSide))\n",
        "#print(min(frstPlsScnd), max(frstPlsScnd))\n",
        "print(\"========================================================\")\n",
        "print(frstSide[0], scndSide[0], frstPlsScnd[0])\n",
        "print(frstSide[100], scndSide[100], frstPlsScnd[100])\n",
        "print(frstSide[1000], scndSide[1000], frstPlsScnd[1000])\n",
        "print(frstSide[-1], scndSide[-1], frstPlsScnd[-1])"
      ],
      "metadata": {
        "colab": {
          "base_uri": "https://localhost:8080/"
        },
        "id": "_ManIU6JOhK2",
        "outputId": "24faa799-3046-46d6-ffb0-db9aa931413e"
      },
      "execution_count": 13,
      "outputs": [
        {
          "output_type": "stream",
          "name": "stdout",
          "text": [
            "54.078922370278114 9919.145702347687\n",
            "10.729417475864903 4998.7333317906205\n",
            "========================================================\n",
            "1506.5547943093097 3286.5177869136955 4793.072581223005\n",
            "763.4012455902978 3490.033478622824 4253.434724213122\n",
            "3323.7302369314134 4586.962905888228 7910.693142819642\n",
            "1934.3932054145387 332.7840231492427 2267.1772285637812\n"
          ]
        }
      ]
    },
    {
      "cell_type": "markdown",
      "source": [
        "### **2- Second Step is to generate random numbers and add/subtract this generated random number to the generated number above**\n"
      ],
      "metadata": {
        "id": "lSupzrgKilWf"
      }
    },
    {
      "cell_type": "code",
      "source": [],
      "metadata": {
        "id": "qwikK4HjlERq"
      },
      "execution_count": null,
      "outputs": []
    },
    {
      "cell_type": "markdown",
      "source": [
        "### **3- Third step is to test if the three sides can form three sides of a triangle (*The triangle inequality theorem describes the relationship between the three sides of a triangle. According to this theorem, for any triangle, the sum of lengths of two sides is always greater than the third side*)**"
      ],
      "metadata": {
        "id": "5bnnKvtfjCfP"
      }
    },
    {
      "cell_type": "code",
      "source": [],
      "metadata": {
        "id": "qM3ipNtiQYOO"
      },
      "execution_count": 6,
      "outputs": []
    },
    {
      "cell_type": "markdown",
      "source": [],
      "metadata": {
        "id": "TYW9RpVJlbq3"
      }
    }
  ]
}