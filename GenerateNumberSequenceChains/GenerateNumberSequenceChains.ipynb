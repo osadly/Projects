{
 "cells": [
  {
   "cell_type": "markdown",
   "id": "230c0b4c-a606-41b1-a06f-8321d252aca5",
   "metadata": {},
   "source": [
    "# Objective: below code is to implement logic to generate chains of particular lenght for sequence in numbers  \n",
    "## Numbers will be represented as two digits for each number (ex.: 01, 02, 03, ...) \n",
    "### Example 1: \n",
    "#### 1) Max chain of sequence in string \"010204\" is 2 (01,02)\n",
    "#### 2) Max chain of sequence in string \"0102030708\" is 3 (01,02,03)\n",
    "#### 3) Max chain of sequence in string \"050708091015\"  is 4 (07,08,09,10)"
   ]
  },
  {
   "cell_type": "code",
   "execution_count": 16,
   "id": "999dd7b2-f42b-4639-88e1-9c079fa430a0",
   "metadata": {},
   "outputs": [],
   "source": [
    "def generateNumbersAsTwoDigits(gradesCount):\n",
    "    gradesList = []\n",
    "    for i in range(gradesCount):\n",
    "        gradesList.append(str(i+1).zfill(2))\n",
    "    return gradesList"
   ]
  },
  {
   "cell_type": "code",
   "execution_count": 17,
   "id": "4e8d4cb9-b957-4009-88b2-3fd635de9b3b",
   "metadata": {},
   "outputs": [],
   "source": [
    "def createListOfChains(gradesCount,minChainLen,maxChainLen):\n",
    "    all_chains = []\n",
    "    gradesList = generateNumbersAsTwoDigits(gradesCount)\n",
    "\n",
    "    for chnLen in range(minChainLen,maxChainLen+1):\n",
    "        for idxStart in range(gradesCount-chnLen+1):\n",
    "            all_chains.append(''.join(gradesList[idxStart:idxStart+chnLen]))\n",
    "\n",
    "    return all_chains"
   ]
  },
  {
   "cell_type": "code",
   "execution_count": 18,
   "id": "951aefef-9dcd-4f25-9d76-c5e71230e976",
   "metadata": {},
   "outputs": [],
   "source": [
    "gradesCount=15\n",
    "maxChainLen=gradesCount\n",
    "minChainLen=4\n",
    "all_chains = createListOfChains(gradesCount,minChainLen,maxChainLen)\n",
    "#print(all_chains)\n",
    "#print(\"hi\")"
   ]
  },
  {
   "cell_type": "code",
   "execution_count": 19,
   "id": "2ef237e9-f03a-4c92-98c5-2dab6b6b9891",
   "metadata": {},
   "outputs": [
    {
     "data": {
      "text/plain": [
       "'\\nlist_of_mixed_types = [\\'01\\', \\'02\\', \\'03\\']\\nstr1=str(list_of_mixed_types)\\nprint(str1[5])  # Output: \"[1, \\'Python\\', True]\"\\n\\nstr2=\\'\\'.join(list_of_mixed_types)\\nprint(str2)  # Output: \"[1, \\'Python\\', True]\"\\n'"
      ]
     },
     "execution_count": 19,
     "metadata": {},
     "output_type": "execute_result"
    }
   ],
   "source": [
    "'''\n",
    "list_of_mixed_types = ['01', '02', '03']\n",
    "str1=str(list_of_mixed_types)\n",
    "print(str1[5])  # Output: \"[1, 'Python', True]\"\n",
    "\n",
    "str2=''.join(list_of_mixed_types)\n",
    "print(str2)  # Output: \"[1, 'Python', True]\"\n",
    "'''"
   ]
  },
  {
   "cell_type": "code",
   "execution_count": 20,
   "id": "66dadac0-286f-4a84-b504-044539c8be63",
   "metadata": {},
   "outputs": [
    {
     "data": {
      "text/plain": [
       "\"\\nlist_of_mixed_types = [1, 'Python', True]\\nstr_list_with_map = list(map(str, list_of_mixed_types))\\nprint(str_list_with_map)  # Output: ['1', 'Python', 'True']\\n\""
      ]
     },
     "execution_count": 20,
     "metadata": {},
     "output_type": "execute_result"
    }
   ],
   "source": [
    "'''\n",
    "list_of_mixed_types = [1, 'Python', True]\n",
    "str_list_with_map = list(map(str, list_of_mixed_types))\n",
    "print(str_list_with_map)  # Output: ['1', 'Python', 'True']\n",
    "'''"
   ]
  },
  {
   "cell_type": "code",
   "execution_count": null,
   "id": "98c38f29-3158-4e9e-a343-9e938145ad4c",
   "metadata": {},
   "outputs": [],
   "source": []
  }
 ],
 "metadata": {
  "kernelspec": {
   "display_name": "Python 3 (ipykernel)",
   "language": "python",
   "name": "python3"
  },
  "language_info": {
   "codemirror_mode": {
    "name": "ipython",
    "version": 3
   },
   "file_extension": ".py",
   "mimetype": "text/x-python",
   "name": "python",
   "nbconvert_exporter": "python",
   "pygments_lexer": "ipython3",
   "version": "3.11.5"
  }
 },
 "nbformat": 4,
 "nbformat_minor": 5
}
