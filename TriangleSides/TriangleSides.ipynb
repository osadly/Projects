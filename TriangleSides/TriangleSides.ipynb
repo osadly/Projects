{
 "cells": [
  {
   "cell_type": "code",
   "execution_count": 1,
   "metadata": {
    "id": "vxDWY4GhOaj9"
   },
   "outputs": [],
   "source": [
    "import numpy as np"
   ]
  },
  {
   "cell_type": "code",
   "execution_count": 2,
   "metadata": {
    "colab": {
     "base_uri": "https://localhost:8080/"
    },
    "id": "qaZ4eJncOdws",
    "outputId": "a0017097-87de-4917-a479-fc6f9e8df3d4"
   },
   "outputs": [
    {
     "data": {
      "text/plain": [
       "array([0.98576604, 0.45772256, 0.24193057, 0.68539857, 0.66121664,\n",
       "       0.91614727, 0.0395434 , 0.70977922, 0.28583642, 0.90346226])"
      ]
     },
     "execution_count": 2,
     "metadata": {},
     "output_type": "execute_result"
    }
   ],
   "source": [
    "np.random.rand(10)"
   ]
  },
  {
   "cell_type": "code",
   "execution_count": 3,
   "metadata": {
    "colab": {
     "base_uri": "https://localhost:8080/"
    },
    "id": "oY1w3MVXPAql",
    "outputId": "62912b99-3b4c-4896-a719-8fbe4baa7dd2"
   },
   "outputs": [
    {
     "data": {
      "text/plain": [
       "0.6104202486633422"
      ]
     },
     "execution_count": 3,
     "metadata": {},
     "output_type": "execute_result"
    }
   ],
   "source": [
    "np.random.random()"
   ]
  },
  {
   "cell_type": "markdown",
   "metadata": {
    "id": "U1qcY71yQ3vO"
   },
   "source": [
    "## ***First Side* and *Second Side* of the triangle**"
   ]
  },
  {
   "cell_type": "code",
   "execution_count": 4,
   "metadata": {
    "id": "TlODPhm0PBL0"
   },
   "outputs": [],
   "source": [
    "#Generate random numbers for first and second side\n",
    "frstSide = []\n",
    "scndSide = []\n",
    "\n",
    "rng = np.random.default_rng()\n",
    "\n",
    "#for i in range(10000):\n",
    "#frstSide.append(rng.uniform(-1,0,1000))\n",
    "frstSide = rng.uniform(10,5000,10000)\n",
    "#scndSide.append(rng.uniform(-1,0,1000))\n",
    "scndSide = rng.uniform(10,5000,10000)\n",
    "\n",
    "frstSide = np.array(frstSide)\n",
    "scndSide = np.array(scndSide)\n"
   ]
  },
  {
   "cell_type": "markdown",
   "metadata": {
    "id": "vYG90Y93RUod"
   },
   "source": [
    "## ***Third Side* of the triangle : This will be done on three steps as following**"
   ]
  },
  {
   "cell_type": "markdown",
   "metadata": {
    "id": "S2OPQcP4SBB9"
   },
   "source": [
    "### **1- First Step is to add the length of the first side *frstSide* and the lenght of the second side *scndSide* and store the generated sum into a third numpy array *frstPlsScnd* (this array of generated sums will be used to generate the third number which will be tested if it can be the third side of the triangle based on the lenght of the first two sides)**"
   ]
  },
  {
   "cell_type": "code",
   "execution_count": 5,
   "metadata": {
    "colab": {
     "base_uri": "https://localhost:8080/"
    },
    "id": "_ManIU6JOhK2",
    "outputId": "24faa799-3046-46d6-ffb0-db9aa931413e"
   },
   "outputs": [
    {
     "name": "stdout",
     "output_type": "stream",
     "text": [
      "97.6471346122925 9945.256499822492\n",
      "10.471906126127937 4999.800909057043\n",
      "========================================================\n",
      "2242.5320949627067 3238.9716730108853 5481.503767973592\n",
      "2419.5549540160664 1021.8103086602092 3441.3652626762755\n",
      "2866.2830516464787 4059.6032585674116 6925.88631021389\n",
      "2686.571028408763 2253.134155371778 4939.705183780541\n"
     ]
    }
   ],
   "source": [
    "frstPlsScnd = frstSide + scndSide\n",
    "\n",
    "print(min(frstPlsScnd), max(frstPlsScnd))\n",
    "print(min(scndSide), max(scndSide))\n",
    "#print(min(frstPlsScnd), max(frstPlsScnd))\n",
    "print(\"========================================================\")\n",
    "print(frstSide[0], scndSide[0], frstPlsScnd[0])\n",
    "print(frstSide[100], scndSide[100], frstPlsScnd[100])\n",
    "print(frstSide[1000], scndSide[1000], frstPlsScnd[1000])\n",
    "print(frstSide[-1], scndSide[-1], frstPlsScnd[-1])"
   ]
  },
  {
   "cell_type": "markdown",
   "metadata": {
    "id": "lSupzrgKilWf"
   },
   "source": [
    "### **2- Second Step is to generate random numbers and add/subtract this generated random number to the generated number above**\n"
   ]
  },
  {
   "cell_type": "code",
   "execution_count": null,
   "metadata": {
    "id": "qwikK4HjlERq"
   },
   "outputs": [],
   "source": []
  },
  {
   "cell_type": "markdown",
   "metadata": {
    "id": "5bnnKvtfjCfP"
   },
   "source": [
    "### **3- Third step is to test if the three sides can form three sides of a triangle (*The triangle inequality theorem describes the relationship between the three sides of a triangle. According to this theorem, for any triangle, the sum of lengths of two sides is always greater than the third side*)**"
   ]
  },
  {
   "cell_type": "code",
   "execution_count": null,
   "metadata": {
    "id": "qM3ipNtiQYOO"
   },
   "outputs": [],
   "source": []
  },
  {
   "cell_type": "markdown",
   "metadata": {
    "id": "TYW9RpVJlbq3"
   },
   "source": []
  }
 ],
 "metadata": {
  "colab": {
   "provenance": [],
   "toc_visible": true
  },
  "kernelspec": {
   "display_name": "Python 3 (ipykernel)",
   "language": "python",
   "name": "python3"
  },
  "language_info": {
   "codemirror_mode": {
    "name": "ipython",
    "version": 3
   },
   "file_extension": ".py",
   "mimetype": "text/x-python",
   "name": "python",
   "nbconvert_exporter": "python",
   "pygments_lexer": "ipython3",
   "version": "3.11.5"
  }
 },
 "nbformat": 4,
 "nbformat_minor": 4
}
